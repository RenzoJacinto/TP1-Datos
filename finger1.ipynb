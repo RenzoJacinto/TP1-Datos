{
 "cells": [
  {
   "cell_type": "markdown",
   "metadata": {},
   "source": [
    "# FINGER 1"
   ]
  },
  {
   "cell_type": "markdown",
   "metadata": {},
   "source": [
    "Imports"
   ]
  },
  {
   "cell_type": "code",
   "execution_count": 1,
   "metadata": {},
   "outputs": [],
   "source": [
    "import pandas as pd\n",
    "import numpy as np\n",
    "\n",
    "import warnings\n",
    "warnings.filterwarnings('ignore')\n",
    "\n",
    "data_path = \"data.csv\""
   ]
  },
  {
   "cell_type": "markdown",
   "metadata": {},
   "source": [
    "## 1 - Apertura y carga del data set"
   ]
  },
  {
   "cell_type": "code",
   "execution_count": 2,
   "metadata": {
    "scrolled": true
   },
   "outputs": [],
   "source": [
    "df = pd.read_csv(data_path)"
   ]
  },
  {
   "cell_type": "code",
   "execution_count": 3,
   "metadata": {
    "scrolled": false
   },
   "outputs": [
    {
     "name": "stdout",
     "output_type": "stream",
     "text": [
      "<class 'pandas.core.frame.DataFrame'>\n",
      "RangeIndex: 16947 entries, 0 to 16946\n",
      "Data columns (total 52 columns):\n",
      " #   Column                              Non-Null Count  Dtype  \n",
      "---  ------                              --------------  -----  \n",
      " 0   ID                                  16947 non-null  int64  \n",
      " 1   Region                              16947 non-null  object \n",
      " 2   Territory                           16947 non-null  object \n",
      " 3   Pricing, Delivery_Terms_Quote_Appr  16947 non-null  int64  \n",
      " 4   Pricing, Delivery_Terms_Approved    16947 non-null  int64  \n",
      " 5   Bureaucratic_Code_0_Approval        16947 non-null  int64  \n",
      " 6   Bureaucratic_Code_0_Approved        16947 non-null  int64  \n",
      " 7   Submitted_for_Approval              16947 non-null  int64  \n",
      " 8   Bureaucratic_Code                   16947 non-null  object \n",
      " 9   Account_Created_Date                16947 non-null  object \n",
      " 10  Source                              16947 non-null  object \n",
      " 11  Billing_Country                     16947 non-null  object \n",
      " 12  Account_Name                        16947 non-null  object \n",
      " 13  Opportunity_Name                    16947 non-null  object \n",
      " 14  Opportunity_ID                      16947 non-null  int64  \n",
      " 15  Sales_Contract_No                   16947 non-null  object \n",
      " 16  Account_Owner                       16947 non-null  object \n",
      " 17  Opportunity_Owner                   16947 non-null  object \n",
      " 18  Account_Type                        16947 non-null  object \n",
      " 19  Opportunity_Type                    16947 non-null  object \n",
      " 20  Quote_Type                          16947 non-null  object \n",
      " 21  Delivery_Terms                      16947 non-null  object \n",
      " 22  Opportunity_Created_Date            16947 non-null  object \n",
      " 23  Brand                               16947 non-null  object \n",
      " 24  Product_Type                        16947 non-null  object \n",
      " 25  Size                                16947 non-null  object \n",
      " 26  Product_Category_B                  16947 non-null  object \n",
      " 27  Price                               16947 non-null  object \n",
      " 28  Currency                            16947 non-null  object \n",
      " 29  Last_Activity                       16947 non-null  object \n",
      " 30  Quote_Expiry_Date                   16947 non-null  object \n",
      " 31  Last_Modified_Date                  16947 non-null  object \n",
      " 32  Last_Modified_By                    16947 non-null  object \n",
      " 33  Product_Family                      16947 non-null  object \n",
      " 34  Product_Name                        16947 non-null  object \n",
      " 35  ASP_Currency                        16947 non-null  object \n",
      " 36  ASP                                 13738 non-null  float64\n",
      " 37  ASP_(converted)_Currency            16947 non-null  object \n",
      " 38  ASP_(converted)                     13738 non-null  float64\n",
      " 39  Planned_Delivery_Start_Date         16947 non-null  object \n",
      " 40  Planned_Delivery_End_Date           16947 non-null  object \n",
      " 41  Month                               16947 non-null  object \n",
      " 42  Delivery_Quarter                    16947 non-null  object \n",
      " 43  Delivery_Year                       16947 non-null  int64  \n",
      " 44  Actual_Delivery_Date                16947 non-null  object \n",
      " 45  TRF                                 16947 non-null  int64  \n",
      " 46  Total_Amount_Currency               16947 non-null  object \n",
      " 47  Total_Amount                        16888 non-null  float64\n",
      " 48  Total_Taxable_Amount_Currency       16947 non-null  object \n",
      " 49  Total_Taxable_Amount                16947 non-null  float64\n",
      " 50  Stage                               16947 non-null  object \n",
      " 51  Prod_Category_A                     16947 non-null  object \n",
      "dtypes: float64(4), int64(9), object(39)\n",
      "memory usage: 6.7+ MB\n"
     ]
    }
   ],
   "source": [
    "df.info()"
   ]
  },
  {
   "cell_type": "markdown",
   "metadata": {},
   "source": [
    "## 2 - Los 10 registros con mayor \"Total_Amount\" para la Region EMEA"
   ]
  },
  {
   "cell_type": "markdown",
   "metadata": {},
   "source": [
    "Obtengo el data frame con solo valores de EMEA para la Region. Y me quedo con las columnas necesarias."
   ]
  },
  {
   "cell_type": "code",
   "execution_count": 4,
   "metadata": {
    "scrolled": false
   },
   "outputs": [
    {
     "data": {
      "text/plain": [
       "EMEA    4664\n",
       "Name: Region, dtype: int64"
      ]
     },
     "execution_count": 4,
     "metadata": {},
     "output_type": "execute_result"
    }
   ],
   "source": [
    "df_EMEA = df[df['Region'] == 'EMEA']\n",
    "df_EMEA = df_EMEA[['ID', 'Region','Territory', 'Delivery_Quarter', 'Delivery_Year','Total_Amount']]\n",
    "df_EMEA['Region'].value_counts()"
   ]
  },
  {
   "cell_type": "code",
   "execution_count": 5,
   "metadata": {},
   "outputs": [
    {
     "data": {
      "text/plain": [
       "91350.00      51\n",
       "72543.75      25\n",
       "79800.00      18\n",
       "89175.00      18\n",
       "0.00          17\n",
       "              ..\n",
       "134400.00      1\n",
       "66192.50       1\n",
       "21840.00       1\n",
       "6792120.00     1\n",
       "95700.00       1\n",
       "Name: Total_Amount, Length: 3153, dtype: int64"
      ]
     },
     "execution_count": 5,
     "metadata": {},
     "output_type": "execute_result"
    }
   ],
   "source": [
    "df_EMEA['Total_Amount'].value_counts()"
   ]
  },
  {
   "cell_type": "code",
   "execution_count": 6,
   "metadata": {
    "scrolled": true
   },
   "outputs": [
    {
     "data": {
      "text/html": [
       "<div>\n",
       "<style scoped>\n",
       "    .dataframe tbody tr th:only-of-type {\n",
       "        vertical-align: middle;\n",
       "    }\n",
       "\n",
       "    .dataframe tbody tr th {\n",
       "        vertical-align: top;\n",
       "    }\n",
       "\n",
       "    .dataframe thead th {\n",
       "        text-align: right;\n",
       "    }\n",
       "</style>\n",
       "<table border=\"1\" class=\"dataframe\">\n",
       "  <thead>\n",
       "    <tr style=\"text-align: right;\">\n",
       "      <th></th>\n",
       "      <th>ID</th>\n",
       "      <th>Region</th>\n",
       "      <th>Territory</th>\n",
       "      <th>Delivery_Quarter</th>\n",
       "      <th>Delivery_Year</th>\n",
       "      <th>Total_Amount</th>\n",
       "    </tr>\n",
       "  </thead>\n",
       "  <tbody>\n",
       "    <tr>\n",
       "      <th>2179</th>\n",
       "      <td>10808</td>\n",
       "      <td>EMEA</td>\n",
       "      <td>None</td>\n",
       "      <td>Q2</td>\n",
       "      <td>2016</td>\n",
       "      <td>2.162400e+08</td>\n",
       "    </tr>\n",
       "    <tr>\n",
       "      <th>3667</th>\n",
       "      <td>8037</td>\n",
       "      <td>EMEA</td>\n",
       "      <td>SE America</td>\n",
       "      <td>Q3</td>\n",
       "      <td>2017</td>\n",
       "      <td>1.539788e+08</td>\n",
       "    </tr>\n",
       "    <tr>\n",
       "      <th>2806</th>\n",
       "      <td>4909</td>\n",
       "      <td>EMEA</td>\n",
       "      <td>UAE (Dubai)</td>\n",
       "      <td>Q1</td>\n",
       "      <td>2017</td>\n",
       "      <td>1.237501e+08</td>\n",
       "    </tr>\n",
       "    <tr>\n",
       "      <th>1933</th>\n",
       "      <td>10620</td>\n",
       "      <td>EMEA</td>\n",
       "      <td>Kazakhstan</td>\n",
       "      <td>Q2</td>\n",
       "      <td>2016</td>\n",
       "      <td>3.960007e+07</td>\n",
       "    </tr>\n",
       "    <tr>\n",
       "      <th>2957</th>\n",
       "      <td>13709</td>\n",
       "      <td>EMEA</td>\n",
       "      <td>Romania</td>\n",
       "      <td>Q2</td>\n",
       "      <td>2016</td>\n",
       "      <td>3.603600e+07</td>\n",
       "    </tr>\n",
       "    <tr>\n",
       "      <th>598</th>\n",
       "      <td>4865</td>\n",
       "      <td>EMEA</td>\n",
       "      <td>France</td>\n",
       "      <td>Q4</td>\n",
       "      <td>2017</td>\n",
       "      <td>3.480420e+07</td>\n",
       "    </tr>\n",
       "    <tr>\n",
       "      <th>7898</th>\n",
       "      <td>15287</td>\n",
       "      <td>EMEA</td>\n",
       "      <td>Belgium</td>\n",
       "      <td>Q1</td>\n",
       "      <td>2018</td>\n",
       "      <td>3.332493e+07</td>\n",
       "    </tr>\n",
       "    <tr>\n",
       "      <th>1817</th>\n",
       "      <td>10350</td>\n",
       "      <td>EMEA</td>\n",
       "      <td>Romania</td>\n",
       "      <td>Q3</td>\n",
       "      <td>2017</td>\n",
       "      <td>2.880198e+07</td>\n",
       "    </tr>\n",
       "    <tr>\n",
       "      <th>3684</th>\n",
       "      <td>20848</td>\n",
       "      <td>EMEA</td>\n",
       "      <td>Italy</td>\n",
       "      <td>Q4</td>\n",
       "      <td>2016</td>\n",
       "      <td>2.879760e+07</td>\n",
       "    </tr>\n",
       "    <tr>\n",
       "      <th>5669</th>\n",
       "      <td>17668</td>\n",
       "      <td>EMEA</td>\n",
       "      <td>Germany</td>\n",
       "      <td>Q1</td>\n",
       "      <td>2017</td>\n",
       "      <td>2.829750e+07</td>\n",
       "    </tr>\n",
       "  </tbody>\n",
       "</table>\n",
       "</div>"
      ],
      "text/plain": [
       "         ID Region    Territory Delivery_Quarter  Delivery_Year  Total_Amount\n",
       "2179  10808   EMEA         None               Q2           2016  2.162400e+08\n",
       "3667   8037   EMEA   SE America               Q3           2017  1.539788e+08\n",
       "2806   4909   EMEA  UAE (Dubai)               Q1           2017  1.237501e+08\n",
       "1933  10620   EMEA   Kazakhstan               Q2           2016  3.960007e+07\n",
       "2957  13709   EMEA      Romania               Q2           2016  3.603600e+07\n",
       "598    4865   EMEA       France               Q4           2017  3.480420e+07\n",
       "7898  15287   EMEA      Belgium               Q1           2018  3.332493e+07\n",
       "1817  10350   EMEA      Romania               Q3           2017  2.880198e+07\n",
       "3684  20848   EMEA        Italy               Q4           2016  2.879760e+07\n",
       "5669  17668   EMEA      Germany               Q1           2017  2.829750e+07"
      ]
     },
     "execution_count": 6,
     "metadata": {},
     "output_type": "execute_result"
    }
   ],
   "source": [
    "df_EMEA.sort_values(by='Total_Amount', ascending = False).head(10)"
   ]
  },
  {
   "cell_type": "markdown",
   "metadata": {},
   "source": [
    "## 3 - Promedio del precio en el territorio Aleman"
   ]
  },
  {
   "cell_type": "code",
   "execution_count": 38,
   "metadata": {
    "scrolled": true
   },
   "outputs": [
    {
     "data": {
      "text/plain": [
       "None     1502\n",
       "Other      71\n",
       "0.28       17\n",
       "0.24       17\n",
       "0.23       10\n",
       "0.27        9\n",
       "0.245       8\n",
       "0.305       6\n",
       "0.3         5\n",
       "0.22        5\n",
       "0.26        5\n",
       "0.29        4\n",
       "0.2         3\n",
       "0.31        3\n",
       "0.275       3\n",
       "0.285       3\n",
       "0.215       2\n",
       "0.295       2\n",
       "0.32        1\n",
       "0.265       1\n",
       "0.34        1\n",
       "0.335       1\n",
       "0.375       1\n",
       "0.33        1\n",
       "0.235       1\n",
       "Name: Price, dtype: int64"
      ]
     },
     "execution_count": 38,
     "metadata": {},
     "output_type": "execute_result"
    }
   ],
   "source": [
    "df_Germany = df[df['Territory'] == 'Germany']\n",
    "df_Germany['Price'].value_counts()"
   ]
  },
  {
   "cell_type": "markdown",
   "metadata": {},
   "source": [
    "Como se ve la columna precios contiene 'None' y 'Other', lo cual para hacer el calculo del promedio los voy a cambiar por 0"
   ]
  },
  {
   "cell_type": "code",
   "execution_count": 39,
   "metadata": {
    "scrolled": true
   },
   "outputs": [
    {
     "data": {
      "text/plain": [
       "0.24     17\n",
       "0.28     17\n",
       "0.23     10\n",
       "0.27      9\n",
       "0.245     8\n",
       "0.305     6\n",
       "0.22      5\n",
       "0.26      5\n",
       "0.3       5\n",
       "0.29      4\n",
       "0.31      3\n",
       "0.2       3\n",
       "0.285     3\n",
       "0.275     3\n",
       "0.295     2\n",
       "0.215     2\n",
       "0.235     1\n",
       "0.265     1\n",
       "0.34      1\n",
       "0.33      1\n",
       "0.32      1\n",
       "0.335     1\n",
       "0.375     1\n",
       "Name: Price, dtype: int64"
      ]
     },
     "execution_count": 39,
     "metadata": {},
     "output_type": "execute_result"
    }
   ],
   "source": [
    "df_Germany = df_Germany[(df_Germany.Price.str.contains('None') == False) & (df_Germany.Price.str.contains('Other') == False)]\n",
    "df_Germany['Price'].value_counts()"
   ]
  },
  {
   "cell_type": "markdown",
   "metadata": {},
   "source": [
    "Una vez acomodado eso hago el calculo correspondiente. Hago a su vez una transformacion a floats, ya que habia un problema de que me tomaba algun valor como si fuese string y no podia calcular la media"
   ]
  },
  {
   "cell_type": "code",
   "execution_count": 42,
   "metadata": {
    "scrolled": false
   },
   "outputs": [
    {
     "data": {
      "text/plain": [
       "0.26467889908256864"
      ]
     },
     "execution_count": 42,
     "metadata": {},
     "output_type": "execute_result"
    }
   ],
   "source": [
    "germany_prices = pd.to_numeric(df_Germany['Price'])\n",
    "germany_prices.mean()"
   ]
  }
 ],
 "metadata": {
  "kernelspec": {
   "display_name": "Python 3",
   "language": "python",
   "name": "python3"
  },
  "language_info": {
   "codemirror_mode": {
    "name": "ipython",
    "version": 3
   },
   "file_extension": ".py",
   "mimetype": "text/x-python",
   "name": "python",
   "nbconvert_exporter": "python",
   "pygments_lexer": "ipython3",
   "version": "3.8.3"
  }
 },
 "nbformat": 4,
 "nbformat_minor": 4
}
